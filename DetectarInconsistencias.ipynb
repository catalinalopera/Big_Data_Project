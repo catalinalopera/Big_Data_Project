{
 "cells": [
  {
   "cell_type": "code",
   "execution_count": 12,
   "metadata": {},
   "outputs": [],
   "source": [
    "import pyodbc\n",
    "import pandas as pd"
   ]
  },
  {
   "cell_type": "code",
   "execution_count": 13,
   "metadata": {},
   "outputs": [],
   "source": [
    "def connect_to_db(driver, server, database, username, password):\n",
    "    \"\"\"\n",
    "    String para conectar a la base de datos SQL y Sypnase Analytics.\n",
    "    \"\"\"\n",
    "    conn_str = (\n",
    "        f\"Driver={{{driver}}};\"\n",
    "        f\"Server={server};\"\n",
    "        f\"Database={database};\"\n",
    "        f\"Uid={username};\"\n",
    "        f\"Pwd={password};\"\n",
    "        f\"Encrypt=yes;\"\n",
    "        f\"TrustServerCertificate=no;\"\n",
    "        f\"Connection Timeout=30;\"\n",
    "    )\n",
    "    return pyodbc.connect(conn_str)"
   ]
  },
  {
   "cell_type": "code",
   "execution_count": 14,
   "metadata": {},
   "outputs": [],
   "source": [
    "def extract_data(conn, query):\n",
    "    \"\"\"\n",
    "    Extraer los datos de la base de datos SQL - Gestion de Clientes Seguros XYZ\n",
    "    \"\"\"\n",
    "    return pd.read_sql(query, conn)"
   ]
  },
  {
   "cell_type": "code",
   "execution_count": 15,
   "metadata": {},
   "outputs": [],
   "source": [
    "def validate_phone(phone):\n",
    "    \"\"\"\n",
    "    Validar que el número teléfonico sea valido\n",
    "    \"\"\"\n",
    "    if phone.isdigit() and len(phone) == 10:\n",
    "        return phone\n",
    "    else:\n",
    "        return \"DatoIncorrecto\""
   ]
  },
  {
   "cell_type": "code",
   "execution_count": 16,
   "metadata": {},
   "outputs": [],
   "source": [
    "def detect_inconsistencies(df):\n",
    "    \"\"\"\n",
    "    Detectar Inconsistencias en la Data.\n",
    "    \"\"\"\n",
    "    inconsistencies = {\n",
    "        'null_values': {},\n",
    "        'invalid_phone': [],\n",
    "        'negative_income': [],\n",
    "        'duplicates': []\n",
    "    }\n",
    "\n",
    "    # Encontrar valores NULL\n",
    "    inconsistencies['null_values'] = df.isnull().sum()\n",
    "\n",
    "    # Validar numeros telefonicos\n",
    "    invalid_phone_rows = df[df['Telefono'] == 'DatoIncorrecto']\n",
    "    inconsistencies['invalid_phone'] = invalid_phone_rows.index.tolist()\n",
    "\n",
    "    # Encontrar Ingresos Anuales negativos\n",
    "    negative_income_rows = df[df['IngresoAnual'] < 0]\n",
    "    inconsistencies['negative_income'] = negative_income_rows.index.tolist()\n",
    "\n",
    "    # Encontrar datos duplicados basados en ClienteID\n",
    "    duplicates = df[df.duplicated(subset='ClienteID', keep=False)]\n",
    "    inconsistencies['duplicates'] = duplicates.index.tolist()\n",
    "\n",
    "    return inconsistencies\n"
   ]
  },
  {
   "cell_type": "code",
   "execution_count": 21,
   "metadata": {},
   "outputs": [],
   "source": [
    "def main():\n",
    "    # Datos de conexión a la base de datos del sistema de gestión de clientes\n",
    "    dw_driver = 'ODBC Driver 18 for SQL Server'\n",
    "    dw_server = 'tcp:workspacesegurosxyz.sql.azuresynapse.net,1433'\n",
    "    dw_database = 'segurosxyz_sqlpool'\n",
    "    dw_username = 'sqladminuser'\n",
    "    dw_password = 'Segurosxyz.2024'\n",
    "\n",
    "    # Conectar a la base de datos del sistema de gestión de clientes\n",
    "    conn_clientes = connect_to_db(dw_driver, dw_server, dw_database, dw_username, dw_password)\n",
    "    query_clientes = \"SELECT * FROM mart.DimClientes\"\n",
    "    df_clientes = extract_data(conn_clientes, query_clientes)\n",
    "    \n",
    "    # Detectar inconsistencias\n",
    "    inconsistencies = detect_inconsistencies(df_clientes)\n",
    "\n",
    "    # Mostrar las inconsistencias\n",
    "    print(\"Inconsistencias encontradas:\")\n",
    "    print(f\"Valores nulos:\\n{inconsistencies['null_values']}\\n\")\n",
    "    print(f\"Filas con teléfonos marcados como Dato Incorrecto: {len(inconsistencies['invalid_phone'])}\\n\")\n",
    "    print(f\"Filas con ingresos anuales negativos: {len(inconsistencies['negative_income'])}\\n\")\n",
    "    print(f\"Filas duplicadas basadas en ClienteID: {len(inconsistencies['duplicates'])}\\n\")"
   ]
  },
  {
   "cell_type": "code",
   "execution_count": 23,
   "metadata": {},
   "outputs": [
    {
     "name": "stderr",
     "output_type": "stream",
     "text": [
      "C:\\Users\\CATALINA\\AppData\\Local\\Temp\\ipykernel_22848\\333626351.py:5: UserWarning: pandas only supports SQLAlchemy connectable (engine/connection) or database string URI or sqlite3 DBAPI2 connection. Other DBAPI2 objects are not tested. Please consider using SQLAlchemy.\n",
      "  return pd.read_sql(query, conn)\n"
     ]
    },
    {
     "name": "stdout",
     "output_type": "stream",
     "text": [
      "Inconsistencias encontradas:\n",
      "Valores nulos:\n",
      "ClienteID          0\n",
      "NombreCompleto     0\n",
      "Direccion          0\n",
      "Telefono           0\n",
      "FechaNacimiento    0\n",
      "Sexo               0\n",
      "EstadoCivil        0\n",
      "Profesion          0\n",
      "IngresoAnual       0\n",
      "FechaRegistro      0\n",
      "Estado             0\n",
      "dtype: int64\n",
      "\n",
      "Filas con teléfonos marcados como Dato Incorrecto: 29\n",
      "\n",
      "Filas con ingresos anuales negativos: 0\n",
      "\n",
      "Filas duplicadas basadas en ClienteID: 0\n",
      "\n"
     ]
    }
   ],
   "source": [
    "if __name__ == \"__main__\":\n",
    "    main()"
   ]
  }
 ],
 "metadata": {
  "kernelspec": {
   "display_name": "segurosXYZ",
   "language": "python",
   "name": "python3"
  },
  "language_info": {
   "codemirror_mode": {
    "name": "ipython",
    "version": 3
   },
   "file_extension": ".py",
   "mimetype": "text/x-python",
   "name": "python",
   "nbconvert_exporter": "python",
   "pygments_lexer": "ipython3",
   "version": "3.8.19"
  }
 },
 "nbformat": 4,
 "nbformat_minor": 2
}
